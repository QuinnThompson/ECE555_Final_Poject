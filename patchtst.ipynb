{
 "cells": [
  {
   "cell_type": "code",
   "execution_count": null,
   "metadata": {},
   "outputs": [],
   "source": [
    "# PatchTST Self-Supervised 90-Day Load Forecasting\n",
    "\n",
    "## Install Dependencies\n",
    "!python -m pip install -q torch torchvision torchaudio\n",
    "!python -m pip install -q numpy pandas matplotlib scikit-learn\n",
    "!python -m pip install -q einops"
   ]
  },
  {
   "cell_type": "code",
   "execution_count": null,
   "metadata": {},
   "outputs": [],
   "source": [
    "## Clone PatchTST Repository\n",
    "!git clone https://github.com/yuqinie98/PatchTST.git"
   ]
  },
  {
   "cell_type": "code",
   "execution_count": null,
   "metadata": {},
   "outputs": [],
   "source": [
    "%cd PatchTST\n",
    "%cd PatchTST_supervised\n",
    "!python -m pip install -r requirements.txt\n",
    "\n",
    "## Import Libraries\n",
    "import pandas as pd\n",
    "import numpy as np\n",
    "import torch\n",
    "from sklearn.preprocessing import MinMaxScaler\n",
    "import matplotlib.pyplot as plt"
   ]
  },
  {
   "cell_type": "code",
   "execution_count": null,
   "metadata": {},
   "outputs": [],
   "source": [
    "!python -m pip install openpyxl"
   ]
  },
  {
   "cell_type": "code",
   "execution_count": null,
   "metadata": {},
   "outputs": [],
   "source": [
    "%cd ..\n",
    "%cd ..\n",
    "%cd Project-main\n",
    "%ls"
   ]
  },
  {
   "cell_type": "code",
   "execution_count": null,
   "metadata": {},
   "outputs": [],
   "source": [
    "\n",
    "df = pd.read_excel(\"Native_Load_2024.xlsx\")\n",
    "df['Hour Ending'] = df['Hour Ending'].str.replace(' 24:00', ' 00:00')\n",
    "df['Hour Ending'] = df['Hour Ending'].str.replace(' DST', '')\n",
    "df['Hour Ending'] = pd.to_datetime(df['Hour Ending'], format='%m/%d/%Y %H:%M')\n",
    "df.set_index('Hour Ending', inplace=True)\n",
    "print(df.head())"
   ]
  },
  {
   "cell_type": "code",
   "execution_count": null,
   "metadata": {},
   "outputs": [],
   "source": [
    "scaler = MinMaxScaler()\n",
    "df['ERCOT'] = scaler.fit_transform(df[['ERCOT']])"
   ]
  },
  {
   "cell_type": "code",
   "execution_count": null,
   "metadata": {},
   "outputs": [],
   "source": [
    "!python -m pip install tqdm"
   ]
  },
  {
   "cell_type": "code",
   "execution_count": null,
   "metadata": {},
   "outputs": [],
   "source": [
    "# Save Data for Training\n",
    "df.to_csv('ercot.csv', index=False)\n",
    "\n",
    "%cd c:/Users/dorot/AppData/Local/Programs/Microsoft VS Code/PatchTST/PatchTST_self_supervised\n",
    "\n",
    "## Pre-train PatchTST on ERCOT Dataset\n",
    "!python patchtst_pretrain.py --dset ercot --mask_ratio 0.4\n",
    "\n",
    "## Fine-tune Model for 90-Day Forecast\n",
    "!python patchtst_finetune.py --dset ercot --pretrained_model saved_model/patchtst_pretrained.pth\n",
    "\n",
    "## Load Predictions and Plot\n",
    "predictions = pd.read_csv('ercot_predictions.csv')\n",
    "plt.plot(predictions['Datetime'], predictions['Actual'], label='Actual')\n",
    "plt.plot(predictions['Datetime'], predictions['Predicted'], label='Predicted')\n",
    "plt.legend()\n",
    "plt.show()\n"
   ]
  }
 ],
 "metadata": {
  "kernelspec": {
   "display_name": "Python 3",
   "language": "python",
   "name": "python3"
  },
  "language_info": {
   "codemirror_mode": {
    "name": "ipython",
    "version": 3
   },
   "file_extension": ".py",
   "mimetype": "text/x-python",
   "name": "python",
   "nbconvert_exporter": "python",
   "pygments_lexer": "ipython3",
   "version": "3.7.8"
  }
 },
 "nbformat": 4,
 "nbformat_minor": 2
}
